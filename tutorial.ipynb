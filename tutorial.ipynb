{
 "cells": [
  {
   "cell_type": "markdown",
   "metadata": {
    "id": "2guthgOz-Ssm"
   },
   "source": [
    "# Coursework 2 for Cardiac MR Image Segmentation (2020-2021)- Group 14\n",
    "\n",
    "Teodora-Maria Filip, Parth Kelkar, Letian Li, Justin Pusztay, Tauseef Rehman, Harpal Toor\n",
    "\n",
    "After you have gone through the coursework description, this tutorial is designed to further helps you understand the problem and therefore enable you to propose a good solution for this coursework. You will learn:\n",
    "\n",
    "* how to load and save images with OpenCV\n",
    "* how to train a segmentation model with Pytorch\n",
    "* how to evaluate the trained model"
   ]
  },
  {
   "cell_type": "markdown",
   "metadata": {
    "id": "gsnVbP35-Sso"
   },
   "source": [
    "## 1. Load, show, and save images with OpenCV\n",
    "\n",
    "OpenCV is an open-source computer vision library which helps us to manipulate image data. In this section, we will cover:\n",
    "* Loading an image from file with imread()\n",
    "* Displaying the image with matplotlib plt.imshow()\n",
    "* Saving an image with imwrite()\n",
    "\n",
    "For a more comprehensive study of OpenCV, we encourage you to check the official [OpenCV documentation](https://docs.opencv.org/master/index.html)."
   ]
  },
  {
   "cell_type": "code",
   "execution_count": null,
   "metadata": {
    "id": "C7ZvSiY3qW_U"
   },
   "outputs": [],
   "source": [
    "from matplotlib import pyplot as plt\n",
    "def show_image_mask(img, mask, cmap='gray'): # Visualisation\n",
    "    fig = plt.figure(figsize=(5,5))\n",
    "    plt.subplot(1, 2, 1)\n",
    "    plt.imshow(img, cmap=cmap)\n",
    "    plt.axis('off')\n",
    "    plt.subplot(1, 2, 2)\n",
    "    plt.imshow(mask, cmap=cmap)\n",
    "    plt.axis('off')"
   ]
  },
  {
   "cell_type": "code",
   "execution_count": null,
   "metadata": {
    "id": "EN5WJ_XG-Sso"
   },
   "outputs": [],
   "source": [
    "import os\n",
    "import cv2 #Import OpenCV\n",
    "\n",
    "data_dir = './data/train'\n",
    "image = cv2.imread(os.path.join(data_dir,'image','cmr1.png'), cv2.IMREAD_UNCHANGED)\n",
    "mask = cv2.imread(os.path.join(data_dir,'mask','cmr1_mask.png'), cv2.IMREAD_UNCHANGED)\n",
    "show_image_mask(image, mask, cmap='gray')\n",
    "plt.pause(1)\n",
    "cv2.imwrite(os.path.join('./','cmr1.png'), mask*85)"
   ]
  },
  {
   "cell_type": "markdown",
   "metadata": {
    "id": "7UDvsGZnYfHS"
   },
   "source": [
    "Note: You will no doubt notice that the mask images appear to be completely black with no sign of any segmentations. This is because the max intensity of pixels in an 8-bit png image is 255 and your image viewer software only sees 255 as white. For those values close to zero, you will only see dark values. This is the case for our masks as the background, the right ventricle, the myocardium, and the left ventricle in each image are 0, 1, 2, and 3, respectively. All of which are close to zero. If we multiply the original mask by 85 and save the result to the directory where this code is, we can see the heart indeed shows up. "
   ]
  },
  {
   "cell_type": "markdown",
   "metadata": {
    "id": "hULAX3WH-Sss"
   },
   "source": [
    "## 2. Define a segmentation model with Pytorch\n",
    "\n",
    "In this section, we expect you to learn how to:\n",
    "* Define a Segmentation Model\n",
    "* Define a DataLoader that inputs images to the Model\n",
    "* Define training parameters and train the model\n",
    "* Test the trained model with a new input image"
   ]
  },
  {
   "cell_type": "markdown",
   "metadata": {
    "id": "IrKFgoZvUbeg"
   },
   "source": [
    "### 2.1 Define a DataLoader"
   ]
  },
  {
   "cell_type": "markdown",
   "metadata": {
    "id": "kC9s43MqqW_U"
   },
   "source": [
    "Below we provide you with a dataloader to use in your assigment. You will only need to focus on the development of your model and loss function.\n",
    "\n"
   ]
  },
  {
   "cell_type": "code",
   "execution_count": null,
   "metadata": {
    "id": "XYrD95T8qz8T"
   },
   "outputs": [],
   "source": [
    "import torch\n",
    "import torch.utils.data as data\n",
    "import cv2\n",
    "import os\n",
    "from glob import glob\n",
    "\n",
    "class TrainDataset(data.Dataset):\n",
    "    def __init__(self, root=''):\n",
    "        super(TrainDataset, self).__init__()\n",
    "        self.img_files = glob(os.path.join(root,'image','*.png'))\n",
    "        self.mask_files = []\n",
    "        for img_path in self.img_files:\n",
    "            basename = os.path.basename(img_path)\n",
    "            self.mask_files.append(os.path.join(root,'mask',basename[:-4]+'_mask.png'))\n",
    "            \n",
    "\n",
    "    def __getitem__(self, index):\n",
    "            img_path = self.img_files[index]\n",
    "            mask_path = self.mask_files[index]\n",
    "            data = cv2.imread(img_path, cv2.IMREAD_UNCHANGED)\n",
    "            label = cv2.imread(mask_path, cv2.IMREAD_UNCHANGED)\n",
    "            return torch.from_numpy(data).float(), torch.from_numpy(label).float()\n",
    "\n",
    "    def __len__(self):\n",
    "        return len(self.img_files)\n",
    "\n",
    "class TestDataset(data.Dataset):\n",
    "    def __init__(self, root=''):\n",
    "        super(TestDataset, self).__init__()\n",
    "        self.img_files = glob(os.path.join(root,'image','*.png'))\n",
    "\n",
    "    def __getitem__(self, index):\n",
    "            img_path = self.img_files[index]\n",
    "            data = cv2.imread(img_path, cv2.IMREAD_UNCHANGED)\n",
    "            return torch.from_numpy(data).float()\n",
    "\n",
    "    def __len__(self):\n",
    "        return len(self.img_files)\n"
   ]
  },
  {
   "cell_type": "markdown",
   "metadata": {
    "id": "82UAfnwSUgc_"
   },
   "source": [
    "### 2.2 Define a Segmenatation Model"
   ]
  },
  {
   "cell_type": "markdown",
   "metadata": {
    "id": "gEIkCqdfYnIn"
   },
   "source": [
    "You will need to define your CNN model for segmentation below"
   ]
  },
  {
   "cell_type": "code",
   "execution_count": null,
   "metadata": {
    "id": "-W6532hFXa_g"
   },
   "outputs": [],
   "source": [
    "import torch\n",
    "import torch.nn as nn\n",
    "import torch.nn.functional as F\n",
    "\n",
    "\"\"\"\n",
    "This Segmenatation Model is based on U-Net.\n",
    "The codes are based on: https://github.com/MrGiovanni/ModelsGenesis/blob/master/pytorch/unet3d.py\n",
    "\"\"\"\n",
    "\n",
    "class ContBatchNorm2d(nn.modules.batchnorm._BatchNorm):\n",
    "\n",
    "    def forward(self, input):\n",
    "        return F.batch_norm(\n",
    "            input, self.running_mean, self.running_var, self.weight, self.bias,\n",
    "            True, self.momentum, self.eps)\n",
    "\n",
    "\n",
    "class LUConv(nn.Module):\n",
    "    def __init__(self, in_chan, out_chan, act):\n",
    "        super(LUConv, self).__init__()\n",
    "        self.conv1 = nn.Conv2d(in_chan, out_chan, kernel_size=3, padding=1)\n",
    "        self.bn1 = ContBatchNorm2d(out_chan)\n",
    "\n",
    "        if act == 'ReLU':\n",
    "            self.activation = nn.ReLU()\n",
    "        elif act == 'PReLU':\n",
    "            self.activation = nn.PReLU()\n",
    "        elif act == 'LeakyReLU':\n",
    "            self.activation = nn.LeakyReLU()\n",
    "        elif act == 'ELU':\n",
    "            self.activation = nn.ELU(inplace=True)\n",
    "        elif act == 'Tanh':\n",
    "            self.activation = nn.Tanh()\n",
    "        else:\n",
    "            raise\n",
    "\n",
    "    def forward(self, x):\n",
    "        out = self.activation(self.bn1(self.conv1(x)))\n",
    "        return out\n",
    "\n",
    "\n",
    "def _make_nConv(in_channel, depth, act, double_chnnel=False):\n",
    "    if double_chnnel:\n",
    "        layer1 = LUConv(in_channel, 32 * (2 ** (depth+1)),act)\n",
    "        layer2 = LUConv(32 * (2 ** (depth+1)), 32 * (2 ** (depth+1)),act)\n",
    "    else:\n",
    "        layer1 = LUConv(in_channel, 32*(2**depth),act)\n",
    "        layer2 = LUConv(32*(2**depth), 32*(2**depth)*2,act)\n",
    "\n",
    "    return nn.Sequential(layer1,layer2)\n",
    "\n",
    "\n",
    "class DownTransition(nn.Module):\n",
    "    def __init__(self, in_channel,depth, act):\n",
    "        super(DownTransition, self).__init__()\n",
    "        self.ops = _make_nConv(in_channel, depth, act)\n",
    "        self.maxpool = nn.MaxPool2d(2)\n",
    "\n",
    "    def forward(self, x, mid_layer=False):\n",
    "        if mid_layer:\n",
    "            out = self.ops(x)\n",
    "            out_before_pool = out\n",
    "        else:\n",
    "            out_before_pool = self.ops(x)\n",
    "            out = self.maxpool(out_before_pool)\n",
    "        return out, out_before_pool\n",
    "\n",
    "    \n",
    "class UpTransition(nn.Module):\n",
    "    def __init__(self, inChans, outChans, depth, act):\n",
    "        super(UpTransition, self).__init__()\n",
    "        self.up_conv = nn.ConvTranspose2d(inChans, outChans, kernel_size=2, stride=2)\n",
    "        self.ops = _make_nConv(inChans + outChans//2, depth, act, double_chnnel=True)\n",
    "\n",
    "    def forward(self, x, skip_x):\n",
    "        out_up_conv = self.up_conv(x)\n",
    "        concat = torch.cat((out_up_conv,skip_x),1)\n",
    "        out = self.ops(concat)\n",
    "        return out\n",
    "\n",
    "\n",
    "class OutputTransition(nn.Module):\n",
    "    def __init__(self, inChans, n_labels):\n",
    "\n",
    "        super(OutputTransition, self).__init__()\n",
    "        self.final_conv = nn.Conv2d(inChans, n_labels, kernel_size=1)\n",
    "        self.sigmoid = nn.Sigmoid()\n",
    "\n",
    "    def forward(self, x):\n",
    "        out = self.sigmoid(self.final_conv(x))\n",
    "        return out\n",
    "\n",
    "    \n",
    "class CNNSEG(nn.Module): # Define your model\n",
    "    def __init__(self, n_class=4, act='ReLU'):\n",
    "        super(CNNSEG, self).__init__()\n",
    "        # fill in the constructor for your model here\n",
    "        self.down_tr64 = DownTransition(1,0,act)\n",
    "        self.down_tr128 = DownTransition(64,1,act)\n",
    "        self.down_tr256 = DownTransition(128,2,act)\n",
    "        self.down_tr512 = DownTransition(256,3,act)\n",
    "        # self.down_tr1024 = DownTransition(512,4,act)    # Adding another downsample layer\n",
    "        \n",
    "        # self.up_tr512 = UpTransition(1024,1024,3,act)   # Adding another upsample layer\n",
    "        self.up_tr256 = UpTransition(512,512,2,act)\n",
    "        self.up_tr128 = UpTransition(256,256,1,act)\n",
    "        self.up_tr64 = UpTransition(128,128,0,act)\n",
    "        self.out_tr = OutputTransition(64, n_class)\n",
    "        \n",
    "    def forward(self, x):\n",
    "        # fill in the forward function for your model here\n",
    "        self.out64, self.skip_out64 = self.down_tr64(x)\n",
    "        self.out128, self.skip_out128 = self.down_tr128(self.out64)\n",
    "        self.out256, self.skip_out256 = self.down_tr256(self.out128)\n",
    "        self.out512, self.skip_out512 = self.down_tr512(self.out256, mid_layer=True)\n",
    "        # self.out1024, self.skip_out1024 = self.down_tr1024(self.out512, mid_layer=True)  # Forward another downsample layer\n",
    "\n",
    "        # self.out_up_512 = self.up_tr512(self.out1024, self.skip_out512)  # Forward another upsample layer\n",
    "        self.out_up_256 = self.up_tr256(self.out512,self.skip_out256)\n",
    "        self.out_up_128 = self.up_tr128(self.out_up_256, self.skip_out128)\n",
    "        self.out_up_64 = self.up_tr64(self.out_up_128, self.skip_out64)\n",
    "        self.out = self.out_tr(self.out_up_64)\n",
    "\n",
    "        return self.out\n",
    "\n",
    "model = CNNSEG() # We can now create a model using your defined segmentation model"
   ]
  },
  {
   "cell_type": "markdown",
   "metadata": {
    "id": "nRdPFTa9a34J"
   },
   "source": [
    "### 2.3 Define a Loss function and optimizer\n",
    "\n",
    "You will need to define a loss function and an optimizer. torch.nn has a variety of readymade loss functions, although you may wish to create your own instead. torch.optim has a variety of optimizers, it is advised that you use one of these."
   ]
  },
  {
   "cell_type": "code",
   "execution_count": null,
   "metadata": {
    "id": "QRjOZGXRbUFT"
   },
   "outputs": [],
   "source": [
    "\"\"\"\n",
    "Loss function & optimizer\n",
    "\"\"\"\n",
    "import torch.optim as optim\n",
    "\n",
    "\"\"\"\n",
    "The code for the Tversky loss function are based on: https://github.com/JunMa11/SegLoss/blob/master/losses_pytorch/dice_loss.py\n",
    "\"\"\"\n",
    "\n",
    "def sum_tensor(inp, axes, keepdim=False):\n",
    "    # copy from: https://github.com/MIC-DKFZ/nnUNet/blob/master/nnunet/utilities/tensor_utilities.py\n",
    "    axes = np.unique(axes).astype(int)\n",
    "    if keepdim:\n",
    "        for ax in axes:\n",
    "            inp = inp.sum(int(ax), keepdim=True)\n",
    "    else:\n",
    "        for ax in sorted(axes, reverse=True):\n",
    "            inp = inp.sum(int(ax))\n",
    "    return inp\n",
    "\n",
    "def get_tp_fp_fn(net_output, gt, axes=None, mask=None, square=False):\n",
    "    \"\"\"\n",
    "    net_output must be (b, c, x, y(, z)))\n",
    "    gt must be a label map (shape (b, 1, x, y(, z)) OR shape (b, x, y(, z))) or one hot encoding (b, c, x, y(, z))\n",
    "    if mask is provided it must have shape (b, 1, x, y(, z)))\n",
    "    :param net_output:\n",
    "    :param gt:\n",
    "    :param axes:\n",
    "    :param mask: mask must be 1 for valid pixels and 0 for invalid pixels\n",
    "    :param square: if True then fp, tp and fn will be squared before summation\n",
    "    :return:\n",
    "    \"\"\"\n",
    "    if axes is None:\n",
    "        axes = tuple(range(2, len(net_output.size())))\n",
    "\n",
    "    shp_x = net_output.shape\n",
    "    shp_y = gt.shape\n",
    "\n",
    "    with torch.no_grad():\n",
    "        if len(shp_x) != len(shp_y):\n",
    "            gt = gt.view((shp_y[0], 1, *shp_y[1:]))\n",
    "\n",
    "        if all([i == j for i, j in zip(net_output.shape, gt.shape)]):\n",
    "            # if this is the case then gt is probably already a one hot encoding\n",
    "            y_onehot = gt\n",
    "        else:\n",
    "            gt = gt.long()\n",
    "            y_onehot = torch.zeros(shp_x)\n",
    "            if net_output.device.type == \"cuda\":\n",
    "                y_onehot = y_onehot.cuda(net_output.device.index)\n",
    "            y_onehot.scatter_(1, gt, 1)\n",
    "\n",
    "    tp = net_output * y_onehot\n",
    "    fp = net_output * (1 - y_onehot)\n",
    "    fn = (1 - net_output) * y_onehot\n",
    "\n",
    "    if mask is not None:\n",
    "        tp = torch.stack(tuple(x_i * mask[:, 0] for x_i in torch.unbind(tp, dim=1)), dim=1)\n",
    "        fp = torch.stack(tuple(x_i * mask[:, 0] for x_i in torch.unbind(fp, dim=1)), dim=1)\n",
    "        fn = torch.stack(tuple(x_i * mask[:, 0] for x_i in torch.unbind(fn, dim=1)), dim=1)\n",
    "\n",
    "    if square:\n",
    "        tp = tp ** 2\n",
    "        fp = fp ** 2\n",
    "        fn = fn ** 2\n",
    "\n",
    "    tp = sum_tensor(tp, axes, keepdim=False)\n",
    "    fp = sum_tensor(fp, axes, keepdim=False)\n",
    "    fn = sum_tensor(fn, axes, keepdim=False)\n",
    "\n",
    "    return tp, fp, fn\n",
    "\n",
    "class TverskyLoss(nn.Module):\n",
    "    def __init__(self, apply_nonlin=None, batch_dice=False, do_bg=True, smooth=1.,\n",
    "                 square=False):\n",
    "        \"\"\"\n",
    "        paper: https://arxiv.org/pdf/1706.05721.pdf\n",
    "        \"\"\"\n",
    "        super(TverskyLoss, self).__init__()\n",
    "\n",
    "        self.square = square\n",
    "        self.do_bg = do_bg\n",
    "        self.batch_dice = batch_dice\n",
    "        self.apply_nonlin = apply_nonlin\n",
    "        self.smooth = smooth\n",
    "        self.alpha = 0.61\n",
    "        self.beta = 0.39\n",
    "\n",
    "    def forward(self, x, y, loss_mask=None):\n",
    "        shp_x = x.shape\n",
    "\n",
    "        if self.batch_dice:\n",
    "            axes = [0] + list(range(2, len(shp_x)))\n",
    "        else:\n",
    "            axes = list(range(2, len(shp_x)))\n",
    "\n",
    "        if self.apply_nonlin is not None:\n",
    "            x = self.apply_nonlin(x)\n",
    "\n",
    "        tp, fp, fn = get_tp_fp_fn(x, y, axes, loss_mask, self.square)\n",
    "\n",
    "\n",
    "        tversky = (tp + self.smooth) / (tp + self.alpha*fp + self.beta*fn + self.smooth)\n",
    "\n",
    "        if not self.do_bg:\n",
    "            if self.batch_dice:\n",
    "                tversky = tversky[1:]\n",
    "            else:\n",
    "                tversky = tversky[:, 1:]\n",
    "        tversky = tversky.mean()\n",
    "\n",
    "        return 1-tversky"
   ]
  },
  {
   "cell_type": "code",
   "execution_count": null,
   "metadata": {},
   "outputs": [],
   "source": [
    "def get_loss_func(loss_name):\n",
    "    if loss_name == \"Tversky\":\n",
    "        return TverskyLoss()\n",
    "    if loss_name == \"CrossEntropy\":\n",
    "        return nn.CrossEntropyLoss()\n",
    "\n",
    "def get_optimizer(model, method, learning_rate):\n",
    "    if method == \"SGD\":\n",
    "        return optim.SGD(model.parameters(), lr=learning_rate)\n",
    "    elif method == \"Adam\":\n",
    "        return optim.AdamW(model.parameters(), lr=learning_rate)\n",
    "    elif method == \"AdaGrad\":\n",
    "        return optim.Adagrad(model.parameters(), lr=learning_rate)"
   ]
  },
  {
   "cell_type": "markdown",
   "metadata": {
    "id": "grDz3fR1qW_V"
   },
   "source": [
    "### 2.4 Training\n",
    "\n",
    "As most of you will use CPUs to train the model, expect your models to take **30 minutes to train if not longer depending on network architecture**. To save time, you should not be using all training data until your model is well developed. If you are running your model on a GPU training should be significantly faster. During the training process, you may want to save the checkpoints as follows:\n",
    "\n",
    "```\n",
    "# Saving checkpoints for validation/testing\n",
    "torch.save(model.state_dict(), path)\n",
    "```\n",
    "The saved checkpoints can be used to load at a later date for validation and testing. Here we give some example code for training a model. Note that you need to specify the max iterations you want to train the model."
   ]
  },
  {
   "cell_type": "code",
   "execution_count": null,
   "metadata": {
    "id": "iCb4bxVVchxf",
    "scrolled": true
   },
   "outputs": [],
   "source": [
    "import numpy as np\n",
    "from torch.utils.data import DataLoader\n",
    "import matplotlib.pyplot as plt\n",
    "\n",
    "def train(model, num_workers = 0, batch_size = 4,epochs = 25,learning_rate = 1, optimizer_name = \"Adam\", \n",
    "          loss_name=\"Tversky\", target=None):\n",
    "    \"\"\"\n",
    "    This function takes a CNNSEG model, num_workers, batch size, epochs, learning rate, PyTorch optimizer,\n",
    "    loss function, and a target performance for mean dice on the validation set. \n",
    "    \n",
    "    It trains the model and updates its parameters. It also keeps track of the dice scores and loss on the \n",
    "    training set and validation set. \n",
    "    \n",
    "    It plots the loss and mean dice of the training set and validation set for each epoch. \n",
    "    \n",
    "    The function returns the final value of the dice score and loss in the validation set.\n",
    "    \"\"\"\n",
    "\n",
    "    # Get Data Loader for Training Set\n",
    "    data_path = './data/train'\n",
    "    train_set = TrainDataset(data_path)\n",
    "    training_data_loader = DataLoader(dataset=train_set, num_workers=num_workers, batch_size=batch_size, \n",
    "                                      shuffle=True,drop_last = True)\n",
    "\n",
    "    # Get Loss Function and Optimizer\n",
    "    loss_func = get_loss_func(loss_name)\n",
    "    optimizer = get_optimizer(model, optimizer_name, learning_rate)\n",
    "\n",
    "    # Initializes empty containers\n",
    "    loss_list_train = list()\n",
    "    loss_list_val = list()\n",
    "    dice_list_train = list()\n",
    "    dice_list_val = list()\n",
    "    \n",
    "    # Train the Model\n",
    "    # Epoch loop\n",
    "    for e in range(epochs):\n",
    "        iteration_dice_list = list()\n",
    "        \n",
    "        # Iteration loop\n",
    "        for iteration, sample in enumerate(training_data_loader):\n",
    "            print(\"Epoch, Iteration:\", e, iteration)\n",
    "            \n",
    "            # Fetch images and labels.  \n",
    "            img, mask = sample\n",
    "            \n",
    "            # show_image_mask(img[0,...].squeeze(), mask[0,...].squeeze())      # Visualise all data in training set\n",
    "            # plt.pause(1)\n",
    "\n",
    "            \n",
    "            # Write your FORWARD below\n",
    "            # Note: Input image to your model and ouput the predicted mask and Your predicted mask should have 4 channels\n",
    "            model.train()                                          # Set the model to training mode\n",
    "            optimizer.zero_grad()                                  # Avoid accumulating gradients\n",
    "            img = img / 255 - 0.5                                  # Normalization\n",
    "            y_pred = model(img.reshape(batch_size,1,96,96))        # Forward pass\n",
    "            \n",
    "            \n",
    "            # Then write your BACKWARD & OPTIMIZE below\n",
    "            # Note: Compute Loss and Optimize\n",
    "            loss = loss_func(y_pred , mask.long())                 # Compute Loss\n",
    "            loss.backward()                                        # Calculate Gradients\n",
    "            optimizer.step()                                       # Update Model's Params\n",
    "            \n",
    "            masks_pred = torch.argmax(y_pred, dim=1)               # Merge four channels into one channel\n",
    "            iteration_dice = see_dice(mask.numpy(), masks_pred.squeeze().numpy())      # Compute Dice\n",
    "            \n",
    "            # Record the Loss and Dice of training set for each iteration\n",
    "            iteration_dice_list.append(iteration_dice)\n",
    "            loss_list_train.append(loss)\n",
    "            print(\"Iteration Loss:\",loss)\n",
    "        \n",
    "        # Record the Dice of training set for each epoch (Take the mean dice of each iteration)\n",
    "        epoch_dice = np.mean(iteration_dice_list)\n",
    "        dice_list_train.append(epoch_dice)\n",
    "        print(\"Epoch Dice:\", epoch_dice)\n",
    "        \n",
    "        # Evaluate by validation set\n",
    "        val_dice, val_loss = evaluate(model, loss_func)\n",
    "        loss_list_val.append(val_loss)\n",
    "        dice_list_val.append(val_dice)\n",
    "        \n",
    "        # Check the validation dice with target dice\n",
    "        if target:\n",
    "            if val_dice > target:                                          # Find a desirable dice\n",
    "                model_params_path = \"net_params.pth\"\n",
    "                torch.save(model.state_dict(), model_params_path)          # Save the model\n",
    "                print(\"The model parameters have been saved.\")\n",
    "                break\n",
    "    \n",
    "    # Plot Loss and Dice both in Training set and Validation set\n",
    "    fig, axs = plt.subplots(nrows = 1, ncols = 2, sharex=False, sharey=False, figsize=(12, 5))\n",
    "    # Plot Loss\n",
    "    X = (np.arange(len(loss_list_val))+1) * int(100/batch_size)\n",
    "    axs[0].plot(loss_list_train, \"b-\", label=u\"Training Loss\")\n",
    "    axs[0].plot(X, loss_list_val, \"ro-\", label=u\"Validation Loss\") \n",
    "    axs[0].set_xlabel('Iteration')\n",
    "    axs[0].set_ylabel('Loss')\n",
    "    axs[0].legend(loc=\"upper right\")\n",
    "    # Plot Dice \n",
    "    plot_text(dice_list_train, plt=axs[1])\n",
    "    plot_text(dice_list_val, plt=axs[1])\n",
    "    axs[1].plot(dice_list_train, \"bo-\", label=u\"Training Dice\")\n",
    "    axs[1].plot(dice_list_val, \"ro-\", label=u\"Validation Dice\")\n",
    "    axs[1].set_xlabel('Epoch')\n",
    "    axs[1].set_ylabel('Dice')\n",
    "    axs[1].legend(loc=\"lower right\")\n",
    "    plt.suptitle('Comparing Loss and Dice', fontsize=16)\n",
    "    plt.show()\n",
    "    \n",
    "    return dice_list_val[-1], loss_list_val[-1]\n",
    "\n",
    "def plot_text(value_list, plt):                     # Add text values in plot\n",
    "    for x,y in enumerate(value_list):\n",
    "        if x % max(int(len(value_list)/5),1) == 0 or x == len(value_list)-1:\n",
    "            plt.text(x, y, '%.3f' % y, fontdict={'fontsize':10})"
   ]
  },
  {
   "cell_type": "markdown",
   "metadata": {
    "id": "tCZP-xof-Sst"
   },
   "source": [
    "### 2.5 Testing\n",
    "\n",
    "When validating the trained checkpoints (models), remember to change the model status as **Evaluation Mode**"
   ]
  },
  {
   "cell_type": "code",
   "execution_count": null,
   "metadata": {
    "id": "lGmhTdkciDt0"
   },
   "outputs": [],
   "source": [
    "import numpy as np\n",
    "from torch.autograd import Variable"
   ]
  },
  {
   "cell_type": "code",
   "execution_count": null,
   "metadata": {
    "id": "LVS22lrjqW_V"
   },
   "outputs": [],
   "source": [
    "# In this block you are expected to write code to load saved model and deploy it to all data in test set to \n",
    "# produce segmentation masks in png images valued 0,1,2,3, which will be used for the submission to Kaggle.\n",
    "\n",
    "def test(model):\n",
    "    \"\"\"\n",
    "    This function takes a CNNSEG model and then loads the parameters from a saved file.\n",
    "    \n",
    "    It tests the model on the unseen test data set, producing its PNG mask image and then \n",
    "    saving the images into a folder called test_results.\n",
    "    \n",
    "    This function returns the name of the folder. \n",
    "    \"\"\"\n",
    "    # Get Data Loader for Test Set\n",
    "    data_path = './data/test'\n",
    "    num_workers = 0\n",
    "    batch_size = 2\n",
    "    test_set = TestDataset(data_path)\n",
    "    test_data_loader = DataLoader(dataset=test_set, num_workers=num_workers,batch_size=batch_size, shuffle=False)\n",
    "    \n",
    "    # Setting\n",
    "    i_png = 120\n",
    "    folder = './test_results'\n",
    "    if not os.path.exists(folder):\n",
    "        os.mkdir(folder)\n",
    "    \n",
    "    # Load saved model\n",
    "    model_params_path = \"net_params.pth\"\n",
    "    model.load_state_dict(torch.load(model_params_path))\n",
    "\n",
    "    # Test Model\n",
    "    with torch.no_grad():               # Fix the model's params\n",
    "        model.eval()                    # Set model to evaluation mode\n",
    "\n",
    "        for iteration, sample in enumerate(test_data_loader):\n",
    "            img = sample                                          # Fetch images and labels\n",
    "\n",
    "            # plt.imshow(img[0,...].squeeze(), cmap='gray')       # Visualise all images in test set\n",
    "            # plt.pause(1)\n",
    "\n",
    "            # Produce Segmentation Masks\n",
    "            img = img / 255 - 0.5                                 # Normalization\n",
    "            y_pred = model(img.reshape(batch_size,1,96,96))       # Forward pass\n",
    "            masks = torch.argmax(y_pred, dim=1)                   # Merge four channels into one channel\n",
    "\n",
    "            # Save png images\n",
    "            masks = masks.squeeze()\n",
    "            for mask in masks:\n",
    "                i_png = i_png + 1\n",
    "                cv2.imwrite(os.path.join(folder,'cmr%s_mask.png' % i_png), mask.numpy())\n",
    "    \n",
    "    print(\"Saved image successfully\")\n",
    "    return folder"
   ]
  },
  {
   "cell_type": "markdown",
   "metadata": {
    "id": "wsycVbIuUov3"
   },
   "source": [
    "## 3. Evaluation\n",
    "\n",
    "As we will automatically evaluate your predicted test makes on Kaggle, in this section we expect you to learn:\n",
    "* what is the Dice score used on Kaggle to measure your models performance\n",
    "* how to submit your predicted masks to Kaggle"
   ]
  },
  {
   "cell_type": "markdown",
   "metadata": {
    "id": "NicQyj47jsD1"
   },
   "source": [
    "### 3.1 Dice Score\n",
    "\n",
    "To evaluate the quality of the predicted masks, the Dice score is adopted. Dice score on two masks A and B is defined as the intersection ratio between the overlap area and the average area of two masks. A higher Dice suggests a better registration.\n",
    "\n",
    "$Dice (A, B)= \\frac{2|A \\cap B|}{|A| + |B|} $\n",
    "\n",
    "However, in our coursework, we have three labels in each mask, we will compute the Dice score for each label and then average the three of them as the final score. Below we have given you `categorical_dice` for free so you can test your results before submission to Kaggle."
   ]
  },
  {
   "cell_type": "code",
   "execution_count": null,
   "metadata": {
    "id": "RzOY4GROqW_V"
   },
   "outputs": [],
   "source": [
    "def categorical_dice(mask1, mask2, label_class=1):\n",
    "    \"\"\"\n",
    "    Dice score of a specified class between two volumes of label masks.\n",
    "    (classes are encoded but by label class number not one-hot )\n",
    "    Note: stacks of 2D slices are considered volumes.\n",
    "\n",
    "    Args:\n",
    "        mask1: N label masks, numpy array shaped (H, W, N)\n",
    "        mask2: N label masks, numpy array shaped (H, W, N)\n",
    "        label_class: the class over which to calculate dice scores\n",
    "\n",
    "    Returns:\n",
    "        volume_dice\n",
    "    \"\"\"\n",
    "    mask1_pos = (mask1 == label_class).astype(np.float32)\n",
    "    mask2_pos = (mask2 == label_class).astype(np.float32)\n",
    "    dice = 2 * np.sum(mask1_pos * mask2_pos) / (np.sum(mask1_pos) + np.sum(mask2_pos))\n",
    "    return dice"
   ]
  },
  {
   "cell_type": "code",
   "execution_count": null,
   "metadata": {},
   "outputs": [],
   "source": [
    "# Compute the dice between two masks in 3 labels\n",
    "def see_dice(mask1, mask2):\n",
    "    dice_list = list()\n",
    "    for i in range(1, 4):\n",
    "        dice = categorical_dice(mask1, mask2, label_class=i)\n",
    "        dice_list.append(dice)\n",
    "    return np.mean(dice_list)"
   ]
  },
  {
   "cell_type": "code",
   "execution_count": null,
   "metadata": {},
   "outputs": [],
   "source": [
    "def evaluate(model, loss_func, num_workers = 0, imshow=False):\n",
    "    \"\"\"\n",
    "    This function takes a CNNSEG model,loss function, num_workers,\n",
    "    and a boolean value to show the prediction mask vs. the actual mask\n",
    "    \n",
    "    It evaluates the model on the validation set. It can plot the predicted mask and \n",
    "    show it next to the actual mask.\n",
    "    \n",
    "    The function returns the mean dice score and the loss on the validation set.\n",
    "    \"\"\"\n",
    "    # Get Data Loader for Validation Set\n",
    "    data_path = './data/val'\n",
    "    val_set = TrainDataset(data_path)\n",
    "    val_data_loader = DataLoader(dataset=val_set, num_workers=num_workers, shuffle=True)\n",
    "    \n",
    "    # Evaluate the model\n",
    "    with torch.no_grad():               # Fix the model's params\n",
    "        model.eval()                    # Set model to evaluation mode\n",
    "        batch_dice_list = list()\n",
    "        for iteration, sample in enumerate(val_data_loader):\n",
    "            img, mask = sample                                   # Fetch images and labels\n",
    "            img = img/255 - 0.5                                  # Normalization\n",
    "            y_pred = model(img.reshape(1,1,96,96))               # Forward pass\n",
    "            val_loss = loss_func(y_pred , mask.long())           # Compute validation loss\n",
    "            masks = torch.argmax(y_pred, dim=1)                  # Merge four channels into one channel\n",
    "            \n",
    "            # Plot the true mask and the predicted mask\n",
    "            if imshow:\n",
    "                fig, axs = plt.subplots(nrows = 1, ncols = 2, sharex=True, sharey=True, figsize=(12, 5))\n",
    "                axs[0].set_title(\"True Mask\")\n",
    "                axs[1].set_title(\"Predicted Mask\")\n",
    "                axs[0].imshow(mask.squeeze(), cmap='gray')\n",
    "                axs[1].imshow(masks.squeeze(), cmap='gray')\n",
    "                plt.show()\n",
    "            \n",
    "            # Record the dice for each iteration\n",
    "            batch_dice = see_dice(mask.numpy(), masks.squeeze().numpy())       # Compute Dice\n",
    "            batch_dice_list.append(batch_dice)\n",
    "            print(\"Batch Dice:\",batch_dice)\n",
    "\n",
    "        # Record the dice of the entire validation set\n",
    "        val_dice = np.mean(batch_dice_list)\n",
    "        print(\"Validation Dice:\",val_dice)\n",
    "        \n",
    "        return val_dice, val_loss"
   ]
  },
  {
   "cell_type": "markdown",
   "metadata": {
    "id": "JZcsrwmVjy5k"
   },
   "source": [
    "### 3.2 Submission\n",
    "\n",
    "Kaggle requires your submission to be in a specific CSV format. To help ensure your submissions are in the correct format, we have provided some helper functions to do this for you. For those interested, the png images are run-length encoded and saved in a CSV to the specifications required by our competition.\n",
    "\n",
    "It is sufficient to use this helper function. To do so, save your 80 predicted masks into a directory. ONLY the 80 predicted masks should be in this directory. Call the submission_converter function with the first argument as the directory containing your masks, and the second the directory in which you wish to save your submission."
   ]
  },
  {
   "cell_type": "code",
   "execution_count": null,
   "metadata": {
    "id": "uHDVbgu0qW_V"
   },
   "outputs": [],
   "source": [
    "import numpy as np\n",
    "import os\n",
    "import cv2\n",
    "\n",
    "def rle_encoding(x):\n",
    "    '''\n",
    "    *** Credit to https://www.kaggle.com/rakhlin/fast-run-length-encoding-python ***\n",
    "    x: numpy array of shape (height, width), 1 - mask, 0 - background\n",
    "    Returns run length as list\n",
    "    '''\n",
    "    dots = np.where(x.T.flatten() == 1)[0]\n",
    "    run_lengths = []\n",
    "    prev = -2\n",
    "    for b in dots:\n",
    "        if (b > prev + 1): run_lengths.extend((b + 1, 0))\n",
    "        run_lengths[-1] += 1\n",
    "        prev = b\n",
    "    return run_lengths\n",
    "\n",
    "\n",
    "def submission_converter(mask_directory, path_to_save):\n",
    "    writer = open(os.path.join(path_to_save, \"submission.csv\"), 'w')\n",
    "    writer.write('id,encoding\\n')\n",
    "\n",
    "    files = os.listdir(mask_directory)\n",
    "\n",
    "    for file in files:\n",
    "        name = file[:-4]\n",
    "        mask = cv2.imread(os.path.join(mask_directory, file), cv2.IMREAD_UNCHANGED)\n",
    "\n",
    "        mask1 = (mask == 1)\n",
    "        mask2 = (mask == 2)\n",
    "        mask3 = (mask == 3)\n",
    "\n",
    "        encoded_mask1 = rle_encoding(mask1)\n",
    "        encoded_mask1 = ' '.join(str(e) for e in encoded_mask1)\n",
    "        encoded_mask2 = rle_encoding(mask2)\n",
    "        encoded_mask2 = ' '.join(str(e) for e in encoded_mask2)\n",
    "        encoded_mask3 = rle_encoding(mask3)\n",
    "        encoded_mask3 = ' '.join(str(e) for e in encoded_mask3)\n",
    "\n",
    "        writer.write(name + '1,' + encoded_mask1 + \"\\n\")\n",
    "        writer.write(name + '2,' + encoded_mask2 + \"\\n\")\n",
    "        writer.write(name + '3,' + encoded_mask3 + \"\\n\")\n",
    "\n",
    "    writer.close()"
   ]
  },
  {
   "cell_type": "markdown",
   "metadata": {},
   "source": [
    "## 4. Experiments for Different Hyperparameters"
   ]
  },
  {
   "cell_type": "code",
   "execution_count": null,
   "metadata": {
    "scrolled": true
   },
   "outputs": [],
   "source": [
    "import csv\n",
    "\n",
    "\"\"\"\n",
    "Choose Different Hyperparameters for testing the grid search. \n",
    "\"\"\"\n",
    "# loss_name = 'CrossEntropy'\n",
    "loss_name = 'Tversky'\n",
    "\n",
    "# optimizer_name = 'SGD'\n",
    "optimizer_name = 'Adam'\n",
    "# optimizer_name = 'AdaGrad'\n",
    "\n",
    "activation_name = 'ReLU'\n",
    "# activation_name = 'Tanh'\n",
    "# activation_name = 'LeakyReLU'\n",
    "\n",
    "lr_search_list = [1,1e-1,1e-2,1e-3,1e-4,1e-5,1e-6] # learning rate list\n",
    "batch_search_list = [1,2,4,8,16,32,64] # batch size list\n",
    "epochs = 25\n",
    "num_workers = 0\n",
    "    \n",
    "# Record the result into a CSV file\n",
    "file_name = activation_name + \"_\" + loss_name + \"_\" + optimizer_name + '.csv'\n",
    "\n",
    "\"\"\"\n",
    "Do Experiments with Different Hyperparameters\n",
    "\"\"\"\n",
    "with open(file_name, 'a', newline='') as file:\n",
    "    writer = csv.writer(file)\n",
    "    writer.writerow([\"Learning Rate\", \"Batch Size\",\"Epochs\",\"Loss Function\", \"Optimizer\",\"Activation\",\"Mean Dice\",\"Validation Loss\"])\n",
    "    \n",
    "    for lr in lr_search_list:\n",
    "        print(\"Test for Learning Rate: \", lr)\n",
    "        for batch in batch_search_list:\n",
    "            print(\"Test for Batch Size: \", batch)\n",
    "            \n",
    "            # Initialize the model\n",
    "            model = CNNSEG(act=activation_name)\n",
    "            \n",
    "            # Train the model and get the validation result\n",
    "            meanDice, valLoss = train(\n",
    "                model = model,\n",
    "                num_workers = num_workers, \n",
    "                batch_size = batch,\n",
    "                epochs = epochs,\n",
    "                learning_rate = lr, \n",
    "                optimizer_name = optimizer_name,\n",
    "                loss_name = loss_name\n",
    "            )\n",
    "            \n",
    "            # Record the validation result \n",
    "            writer.writerow([lr, batch, epochs, loss_name, optimizer_name, activation_name, meanDice, valLoss])"
   ]
  },
  {
   "cell_type": "markdown",
   "metadata": {},
   "source": [
    "## 5. Generate the Final Model to Submit"
   ]
  },
  {
   "cell_type": "code",
   "execution_count": null,
   "metadata": {},
   "outputs": [],
   "source": [
    "# Step 1 - Set Best Hyperparameters\n",
    "loss_name = 'Tversky'\n",
    "optimizer_name = 'Adam'\n",
    "activation_name = 'ReLU'\n",
    "learning_rate = 0.0001\n",
    "batch_size = 1\n",
    "epochs = 25\n",
    "num_workers = 0\n",
    "model = CNNSEG(act=activation_name)"
   ]
  },
  {
   "cell_type": "code",
   "execution_count": null,
   "metadata": {},
   "outputs": [],
   "source": [
    "# Step 2 - Train the Model\n",
    "model_para_path = train(\n",
    "    model = model, \n",
    "    num_workers = num_workers, \n",
    "    batch_size = batch_size,\n",
    "    epochs = epochs,\n",
    "    learning_rate = learning_rate, \n",
    "    optimizer_name = optimizer_name, \n",
    "    loss_name= loss_name, \n",
    "    target=0.89\n",
    ")"
   ]
  },
  {
   "cell_type": "code",
   "execution_count": null,
   "metadata": {},
   "outputs": [],
   "source": [
    "# Step 3 - Visualise Prediction in Validation Set\n",
    "model_params_path = \"net_params.pth\"\n",
    "model.load_state_dict(torch.load(model_params_path))\n",
    "evaluate(model, get_loss_func(loss_name), imshow=True)"
   ]
  },
  {
   "cell_type": "code",
   "execution_count": null,
   "metadata": {},
   "outputs": [],
   "source": [
    "# Step 4 - Implement on Test Set\n",
    "folder = test(model)\n",
    "\n",
    "# Generate CSV file\n",
    "submission_converter(folder, './')\n",
    "print(\"Generate CSV file successfully\")"
   ]
  },
  {
   "cell_type": "markdown",
   "metadata": {
    "id": "2guthgOz-Ssm"
   },
   "source": [
    "# Report for Cardiac MR Image Segmentation\n",
    "\n",
    "In this report we will describe our approach to semantic segmentation of cardiovascular magnetic resonance (CMR) images using deep learning. We will discuss our implementation of our neural network, our experimentation to optimize network’s generalization performance, and present our final model."
   ]
  },
  {
   "cell_type": "markdown",
   "metadata": {},
   "source": [
    "# Introduction\n",
    "\n",
    "To perform our task of semantic segmentation, we will use a convolutional neural network (CNN), a type of deep learning. CNNs have been gaining momentum within the field of computer vision, as clearly shown by one of the most cited papers in this area written by Krizhevsky et al., 2017. Within computer vision, image segmentation has applications in many different fields such as pattern recognition, image compression, and image retrieval [Wang, 2010].\n",
    "\n",
    "We will create a CNN that will segment CMR images allowing additional information to be processed. This is done by mapping each pixel to a particular label to create regions within the image, yielding a segmented mask image [Tamilselvan and Murugesan, 2018]. In particular in CMR images, we will split images into the background region, the left ventricle (LV) region, the myocardium (Myo) region and the right ventricle (RV) region. From this, information such as the myocardial mass, wall thickness, left and right ventricle volumes can be extracted, which gives information when diagnosing cardiovascular diseases [Chen et al., 2020].\n",
    "\n",
    "The data sets that we will use for creating and testing our model comes from the Automated Cardiac Diagnosis Challenge (ACDC). The dataset provided in the coursework has been modified and has 200 CMR images. The data has been divided into training (50%), validation (10%), and test (40%) sets. We will use the training set to learn the parameters and the validation set for experiments to find hyperparameters that optimize performance. Finally, we will use our best performing models from our training and validation sets to deploy to Kaggle to see performance on unseen test data."
   ]
  },
  {
   "cell_type": "markdown",
   "metadata": {},
   "source": [
    "# Implementation\n",
    "\n",
    "We decided to implement a U-Net architecture. We note that fully convolutional deep neural networks (FCNs) are excellent at image segmentation [Salehi et al., 2017], the U-Net architecture we used is designed as an improvement on FCN architectures [Gadosey et al., 2020] specifically for image segmentation on biomedical datasets [Wang et al., 2020]. Our problem deals with biomedical data, thus making U-Net a good choice. We also chose to implement the U-Net architecture due to its ability to perform the segmentation of the data with a small amount of labeled data [Gadosey et al., 2020]. Since we only have 100 CMR images as training data we decided the U-Net architecture is a good network to implement.\n",
    "\n",
    "To implement the U-Net architecture we modified a PyTorch implementation from the ModelsGensis repository on GitHub [MrGiovanni, 2020]. Their implementation was designed for three dimensional images. We modified their code to fit our problem with two dimensional images. Additionally, we generalised their classes for our hyperparameter testing. For example, we expanded the selection of activation functions that can be chosen for training by adding Leaky ReLu and hyperbolic tangent. We also had to fit their classes to the provided CNNSEG class.\n",
    "\n",
    "A common problem in the training of these networks is data imbalance where the distributions over the different classes are not equal hence we will have a bias towards particular classes in our training phase. In medical applications, bias may result in false negative diagnosis which are highly undesirable. We approached this problem by considering a loss function that accounted for this called the Tversky Loss which introduces hyperparameters, α and β, that weight the contributions of the false positives and false negatives to the loss respectively [Salehi et al., 2017]. With this we attempt a better generalisation by accounting for this bias [MathWorks, 2020]. To implement Tversky loss, we used a PyTorch implementation from the SegLoss repository on GitHub [JunMa11, 2020]. Again, we modified their code slightly to fit our problem. Also, we implemented Cross Entropy via PyTorch.\n",
    "\n",
    "We decided to use the dice score to evaluate the quality of the predicted masks. We added a function named see_dice() that would compute the dice between two masks that would use the categorical dice function that was given.\n",
    "We then implemented a function that would train the model. This function would take all of the hyperparameters including the optimiser and loss function as arguments. We keep track of the loss and dice scores for the training and validation sets, where we append the losses and dice scores after each epoch. Within each epoch we set the model for training, set the gradient equal to 0, and the predict on the batch. We then calculate the loss on the prediction with respect to actual masks to then use PyTorch’s backward method for propagation. We use optimizer.step() to update the parameters. Finally, the function plots the loss and dice score for each epoch for the validation and training set.\n",
    "\n",
    "To tune hyperparameters we implemented an evaluate function that would take the trained model and evaluate it on the validation set. This would return the average dice score and loss across the validation sets. Here we would predict the masks for the validation set and then calculate the dice scores of the predicted masks vs. the true masks. Also the function plots the true mask and the predicted mask to compare side by side.\n",
    "\n",
    "We created a test function that loads a saved model and then predicts the masks on all the data in the test set. This function produces each mask’s PNG image and then saves them into a folder.\n",
    "\n",
    "We automated a grid search so that we have the performance metrics from our tests saved in CSV files for easier analysis. We created a naming scheme for each file based on the loss function, optimiser, and activation function chosen. Here we also define the values for the learning rates and batch sizes. The code will run every combination of the learning rates and batch sizes defined and then output the mean dice score on the validation set and the validation loss into the CSV.\n",
    "In section 5 of this file, we implement all of the functions and classes that create the model, train it, test it, and produces the CSV that can deployed to Kaggle.\n"
   ]
  },
  {
   "cell_type": "markdown",
   "metadata": {},
   "source": [
    "#  Experiment\n",
    "## Experiment Design\n",
    "\n",
    "We designed our experiment to tune hyperparameters via a grid search on different types of loss functions, optimisers, and activation functions. The following loss functions were chosen: Cross Entropy and Tversky. The following optimisers were chosen: Stochastic Gradient Descent, Adam, and Adagrad. Finally, we tested on the following activation functions: ReLu, Leaky ReLu, and hyperbolic tangent. All combinations of loss functions, optimisers, and activation functions were tested resulting in 18 different combinations. A fixed value of 10 epochs was used initially. Each combination was tested with a grid search on various learning rates and batch sizes. \n",
    "\n",
    "We measured performance of the tests with the mean dice on the validation set. We compared the best setting of learning rate and batch size for each combination. We then used the top 3 best performing models to be investigated further on 25 epochs. Following this, we optimized the hyperparameters in the Tversky loss, epochs, and the number of layers in the U-Net. \n",
    "\n",
    "We described the division of the data in the introduction. The training set was used to learn the parameters. The validation set was used to tune our hyperparameters. We then deploy the trained model and tuned hyperparameters of the best performing model on the validation set onto the test set to evaluate the performance of our model on unseen data. We ensure that we keep the test set as unseen data and let it not influence our settings for the hyperparameters as this will no longer be a fair evaluation of our model. We attempted to minimise the overfitting of our model by having our validation accuracy be similar to our training accuracy. This meant that we have a model that generalises well when applied to the unseen test data set.\n"
   ]
  },
  {
   "cell_type": "markdown",
   "metadata": {},
   "source": [
    "## Experiment Results"
   ]
  },
  {
   "cell_type": "markdown",
   "metadata": {},
   "source": [
    "Initially, all possible combinations between the activation functions, optimisers, loss functions - 18 in total - were tested with a fixed epochs value at 10. A grid search was then performed for the learning rate and batch size. For each model, the highest average dice value was taken to represent the performance of each, as shown in Figure 1. We were aware that with higher epochs all models would have performed better however, due to the time limitation, it was decided to choose models with distinctly higher performance, even at fewer epochs. "
   ]
  },
  {
   "cell_type": "code",
   "execution_count": 26,
   "metadata": {},
   "outputs": [
    {
     "data": {
      "image/png": "[encoded data removed]",
      "text/plain": [
       "<Figure size 1080x720 with 1 Axes>"
      ]
     },
     "metadata": {
      "needs_background": "light"
     },
     "output_type": "display_data"
    }
   ],
   "source": [
    "import matplotlib.pyplot as plt\n",
    "import numpy as np\n",
    "\n",
    "name_model = ['RELU, CROSS, SGD','RELU, TVERSKY, ADAM','RELU, TVERSKY,SGD','RELU, CROSS, ADAM',\n",
    "              'RELU, CROSS, ADAGRAD','LEAKY RELU, TVERSKY, ADAGRAD','LEAKY RELU, TVERSKY, SGD',\n",
    "              'LEAKY RELU, CROSS, ADAM','RELU, TVERSKY, ADAGRAD','LEAKY RELU, CROSS, ADAGRAD',\n",
    "              'TANH, TVERSKY, SGD','TANH, TVERSKY, ADAM','TANH, TVERSKY, ADAGRAD','TANH, CROSS, SGD',\n",
    "              'TANH, CROSS, ADAM','LEAKY RELU, CROSS, SGD','TANH, CROSS, ADAGRAD','LEAKY RELU, TVERSKY, ADAM']\n",
    "dice_model = [0.8395,0.8304,0.8299,0.8247,0.8145,0.8036,0.7981,0.7954,0.7716,0.7484,0.6926,0.6919,\n",
    "              0.6802,0.5936,0.5336,0.5287,0.4513,0.4316]\n",
    "\n",
    "a = sorted(zip(dice_model, name_model), reverse=True)[:3]\n",
    "name3 = []\n",
    "dice3 = []\n",
    "for i in a:\n",
    "    name3.append(i[1])\n",
    "    dice3.append(i[0])\n",
    "dice_model= [round(num, 4) for num in dice_model]        \n",
    "y_pos = np.arange(len(name_model))\n",
    "plt.barh(y_pos,dice_model)\n",
    "plt.barh(name3,dice3, color = 'red')\n",
    "fig = plt.gcf()\n",
    "fig.set_size_inches(15, 10)\n",
    "plt.yticks(y_pos, name_model)\n",
    "plt.title('Figure 1. All models tested at 10 epochs')\n",
    "ax = plt.gca()\n",
    "ax.tick_params(axis='y', which='major', labelsize=10)\n",
    "plt.xlabel('Average dice', fontsize=20)\n",
    "plt.ylabel('Model', fontsize=20)\n",
    "for i, v in enumerate(dice_model):\n",
    "   plt.text(v, i, \" \"+str(v), color='blue', va='center', fontweight='bold', fontsize = 12)\n",
    "\n",
    "plt.show()"
   ]
  },
  {
   "cell_type": "markdown",
   "metadata": {},
   "source": [
    "The best 3 models in Figure 1, highlighted in red, were then retested at 25 epochs, with the results presented in Figure 2. These were tested with the learning rate and batch size hyperparameters fixed at the values from the previous grid search test. The best model was concluded to be the one constructed with Tversky loss function, ReLu activation function and the ADAM optimizer."
   ]
  },
  {
   "cell_type": "code",
   "execution_count": 27,
   "metadata": {},
   "outputs": [
    {
     "data": {
      "image/png": "[encoded data removed]",
      "text/plain": [
       "<Figure size 432x288 with 1 Axes>"
      ]
     },
     "metadata": {
      "needs_background": "light"
     },
     "output_type": "display_data"
    }
   ],
   "source": [
    "dice_25 = [0.836187823310372,0.851762,0.841064233]\n",
    "name_25 = ['RELU, TVERSKY,SGD','RELU, TVERSKY, ADAM','RELU, CROSS, SGD']\n",
    "y_pos = np.arange(len(name_25))\n",
    "plt.barh(name_25,dice_25, color = 'red')\n",
    "bestname = ['RELU, TVERSKY, ADAM']\n",
    "bestmodel = [0.851762]\n",
    "plt.yticks(y_pos, name_25)\n",
    "plt.barh(bestname,bestmodel, color = 'green')\n",
    "plt.title('Figure 2. Top 3 models tested at 25 epochs')\n",
    "ax = plt.gca()\n",
    "ax.tick_params(axis='y', which='major', labelsize=10)\n",
    "for i, v in enumerate(dice_25):\n",
    "   plt.text(v-0.5, i, \" \"+str(v), color='white', va='baseline', fontweight='bold', fontsize = 12)\n"
   ]
  },
  {
   "cell_type": "markdown",
   "metadata": {},
   "source": [
    "Now that we have chosen our model we will look at how we tuned the hyperparamters for it. Below we will summarise our experiments ran on Tversky loss, learning rate, batch size, number of hidden layers, and epochs."
   ]
  },
  {
   "cell_type": "markdown",
   "metadata": {},
   "source": [
    "### Tversky Loss Hyperparameter Optimisation for Final Model\n",
    "\n",
    "We can improve generalisation by optimising the hyperparameters of α and β of our Tversky loss function as we can improve the correction for any data imbalance. We began by maintaining all other hyperparameters for our chosen model and then randomly picking values for α (thus β since β = 1 - α) and observed the mean dice of our U-Net model. In other words, random search was used to find lower and upper bounds of the mean dice of our model and tests were run on the mid-point of this interval to find a smaller interval. We repeated this test several times. We chose to find α and β to 2 decimal places. From our experiements, we obtained the following plot."
   ]
  },
  {
   "cell_type": "code",
   "execution_count": 28,
   "metadata": {},
   "outputs": [
    {
     "data": {
      "image/png": "[encoded data removed]",
      "text/plain": [
       "<Figure size 432x288 with 1 Axes>"
      ]
     },
     "metadata": {
      "needs_background": "light"
     },
     "output_type": "display_data"
    }
   ],
   "source": [
    "alpha = [0.6,0.5,0.55,0.45,0.65,0.625,0.61,0.62,0.615]\n",
    "val_dice= [0.8441529549708736,0.8302270767106243,0.8003967305709455,\n",
    "           0.8143681083489538, 0.8283610074542992,0.8292482370261751,0.8509846872222309,\n",
    "           0.8356568355603958, 0.8243151270690395]\n",
    "\n",
    "plt.scatter(alpha,val_dice)\n",
    "plt.xlabel(\"Alpha Values\")\n",
    "plt.ylabel(\"Mean Dice Value on Validation Set\")\n",
    "plt.title(\"Figure 3: Alpha parameter versus validation mean dice for Tversky Loss Function\")\n",
    "plt.show()"
   ]
  },
  {
   "cell_type": "markdown",
   "metadata": {},
   "source": [
    "We can see here that the optimal value for α is 0.61 since it had the highest mean dice value. Thus, when we implement Tversky in subsequent tests, we choose α = 0.61 and β = 0.39."
   ]
  },
  {
   "cell_type": "markdown",
   "metadata": {},
   "source": [
    "### Learning Rate for Final Model\n",
    "\n",
    "For the final model chosen a smaller learning rate performed better than a higher one. In the graph below it can be seen that between a range of 0.0001 and 0.1 this relationship holds. A learning rate of 0.0001 was optimal. These results are from the grid search carried out as explained in the experiment design for 10 epochs. "
   ]
  },
  {
   "cell_type": "code",
   "execution_count": 29,
   "metadata": {},
   "outputs": [
    {
     "data": {
      "image/png": "[encoded data removed]",
      "text/plain": [
       "<Figure size 432x288 with 1 Axes>"
      ]
     },
     "metadata": {
      "needs_background": "light"
     },
     "output_type": "display_data"
    }
   ],
   "source": [
    "lr = [0.1,0.06,0.03,0.01,0.001,0.0001]\n",
    "diceval = [0.151861317,0.680181094,0.709218579,0.745676491,0.785405996,0.830392059]\n",
    "\n",
    "plt.plot(lr,diceval,'-ob')\n",
    "plt.title('Figure 4: Learning rate versus Mean Dice Value')\n",
    "plt.xlabel(\"Learning Rate\")\n",
    "plt.ylabel(\"Mean Validation Value\")\n",
    "plt.show()"
   ]
  },
  {
   "cell_type": "markdown",
   "metadata": {},
   "source": [
    "### Batch Size for the Final Model\n",
    "\n",
    "Similarly, a smaller batch size for the final model also performed better than a larger one. This held true for a range between 1 and 32. A batch size of 1 was optimal. As shown in Figure 4:"
   ]
  },
  {
   "cell_type": "code",
   "execution_count": 30,
   "metadata": {},
   "outputs": [
    {
     "data": {
      "image/png": "[encoded data removed]",
      "text/plain": [
       "<Figure size 432x288 with 1 Axes>"
      ]
     },
     "metadata": {
      "needs_background": "light"
     },
     "output_type": "display_data"
    }
   ],
   "source": [
    "batchsize = [32,16,8,4,2,1]\n",
    "dice = [0.618944308,0.708837118,0.715764975,0.779700757,0.785867825,0.830392059]\n",
    "\n",
    "plt.plot(batchsize,dice,'-ob')\n",
    "plt.title('Figure 4: Batch size versus Mean Dice Value')\n",
    "plt.xlabel(\"Batch size\")\n",
    "plt.ylabel(\"Mean Validation Value\")\n",
    "plt.show()"
   ]
  },
  {
   "cell_type": "markdown",
   "metadata": {},
   "source": [
    "### Number of Hidden Layers in the Final Model"
   ]
  },
  {
   "cell_type": "markdown",
   "metadata": {},
   "source": [
    "Optimising the number of hidden layers in U-Net is more straightforward, if we add another down-sampling layer, we must add an up-sampling layer due to U-Net's symmetric nature. We used early stopping when determining the ideal number of hidden layers. When trained on 4 down and up sampling layers, we obtained a mean dice value of 0.861. With 3 down and up sampling layers, we obtained 0.799. With 5 down and up sampling layers we obtained a mean dice of 0.847, so we stop our experiment since mean dice is decreasing. Note Figure 5 below: "
   ]
  },
  {
   "cell_type": "code",
   "execution_count": 31,
   "metadata": {},
   "outputs": [
    {
     "data": {
      "image/png": "[encoded data removed]",
      "text/plain": [
       "<Figure size 432x288 with 1 Axes>"
      ]
     },
     "metadata": {
      "needs_background": "light"
     },
     "output_type": "display_data"
    }
   ],
   "source": [
    "layers = [2,3,4,5]\n",
    "val_dice= [0.799,0.861,0.847,0.846]\n",
    "\n",
    "plt.plot(layers,val_dice,'-ob')\n",
    "plt.xlabel(\"Number of Down/Up Sampling Layers\")\n",
    "plt.ylabel(\"Mean Dice Value on Validation Set\")\n",
    "plt.title(\"Figure 5:  Down/Up Sampling Layers versus validation mean dice\")\n",
    "plt.show()"
   ]
  },
  {
   "cell_type": "markdown",
   "metadata": {},
   "source": [
    "### Epochs"
   ]
  },
  {
   "cell_type": "markdown",
   "metadata": {},
   "source": [
    "With our chosen model and optimised hyperparameters, we can now begin testing on the number of epochs the model is trained on. If we set our target accuracy to be 0.85, we obtain the following graphs:"
   ]
  },
  {
   "cell_type": "code",
   "execution_count": 2,
   "metadata": {},
   "outputs": [
    {
     "data": {
      "image/png": "[encoded data removed]",
      "text/plain": [
       "<IPython.core.display.Image object>"
      ]
     },
     "execution_count": 2,
     "metadata": {},
     "output_type": "execute_result"
    }
   ],
   "source": [
    "from IPython.display import Image\n",
    "Image(filename=\"epochsgraph.png\")"
   ]
  },
  {
   "cell_type": "markdown",
   "metadata": {},
   "source": [
    "We can see that if we run at higher epochs, whilst our accuracy may be increasing, it is becoming saturated so there is little improvement beyond this for much more computational cost. After 5 epochs our training dice and validation dice begin to diverge suggesting we are now overfitting however, our mean dice continues to increase suggesting that it will continue to increase at larger epochs. This is further demonstrated by the training mean dice at the last 3 points becoming saturated whereas the validation mean dice is continuing to increase. We now test the performance of our model on the validation set at increments of 10 epochs and obtain the following graph."
   ]
  },
  {
   "cell_type": "code",
   "execution_count": 32,
   "metadata": {},
   "outputs": [
    {
     "data": {
      "image/png": "[encoded data removed]",
      "text/plain": [
       "<Figure size 432x288 with 1 Axes>"
      ]
     },
     "metadata": {
      "needs_background": "light"
     },
     "output_type": "display_data"
    }
   ],
   "source": [
    "epochs = np.arange(10,110,10)\n",
    "dice = [0.829343046,0.849977531,0.861602669,0.8507335359999999,0.85527379,0.857457348,0.859868482,0.8537203109999999,0.8601064490000001,0.859590823]\n",
    "diceuse = [round(num, 3) for num in dice]\n",
    "plt.plot(epochs,diceuse, '-ob')\n",
    "ax = plt.gca()\n",
    "ax.set_xlabel(\"Epochs\")\n",
    "ax.set_ylabel('Mean Validation Dice')\n",
    "plt.title('Figure 6: Mean Validation Dice behaviour over epochs for the best model')\n",
    "for i, txt in enumerate(diceuse):\n",
    "    ax.annotate(txt, (epochs[i], diceuse[i]))\n"
   ]
  },
  {
   "cell_type": "markdown",
   "metadata": {},
   "source": [
    "\n",
    "Here we can see that the mean dice values for 30, 90 and 100 epochs are very similar, suggesting that the mean dice is becoming saturated at larger epochs. Therefore, we can obtain a good model with 30 epochs, and if we have the time and computational resources, we could run at larger epochs to obtain a better model however this quickly becomes very expensive."
   ]
  },
  {
   "cell_type": "markdown",
   "metadata": {},
   "source": [
    "## Conclusion\n",
    "\n",
    "There were many key findings found from our hyperparameter experiments.The experiments allowed us to explore the effects of several hyperparameters in this U-Net model. The best model uses the Tversky loss function with α = 0.61 and β = 0.39, ReLu activation function and the ADAM optimizer. Combined with a learning rate of 0.0001 and a batch size of 1, this model gave a mean dice of 0.862 after 30 epochs on the validation set.\n",
    "\n",
    "Overall, the ReLU activation function gave better results in our experiments indicated by the performance numbers in Figure 1. Using the Tversky loss function generally performed better than Cross Entropy. The optimisers did not play a crucial role on performance as they showed similar results. \n",
    "\n",
    "In the final model, the learning rate is critical evident from our grid search, the model was very sensitive to the choice of this hyperparameter. The mean dice would change drastically based on our choice of learning rate. For most optimisers, a smaller batch size performed well. This can be seen in the results from our grid search. The batch size had a large impact on the model performance when the batch size was significantly large. Increasing our number of layers beyond our default setting did not improve the mean dice on the validation set thus we kept our default setting of number of hidden layers as this hyperparameter was not impactful on performance.\n",
    "\n",
    "We obtained a good model at 30 epochs however it was clear that we can obtain a model with better generalisation by running at far larger epochs. This result is indicated by our Kaggle submission after having ran our model for 400 epochs in which we obtain a dice accuracy of 0.88939 on the test set."
   ]
  },
  {
   "cell_type": "markdown",
   "metadata": {},
   "source": [
    "## References\n",
    "[Chen et al., 2020] Chen, C., Qin, C., Qiu, H., Tarroni, G., Duan, J., Bai, W., and Rueckert, D. (2020). Deep learning for cardiac image segmentation: A review. Frontiers in Cardiovascular Medicine, 7:25.\n",
    "\n",
    "[Gadosey et al., 2020] Gadosey, P. K., Li, Y., Agyekum, E. A., Zhang, T., Liu, Z., Yamak, P. T., and Essaf, F. (2020). Sd-unet: Stripping down u-net for segmentation of biomedical images on platforms with low computational budgets. Diagnostics, 10(2):110.\n",
    "\n",
    "[JunMa11, 2020]  JunMa11 (2020).  Segmentation loss. Available from: https://github.com/JunMa11/SegLoss\n",
    "\n",
    "[Krizhevsky et al., 2017] Krizhevsky, A., Sutskever, I., and Hinton, G. E. (2017). Imagenet classification with deep convolutional neural networks. Communications of the ACM, 60(6):84–90.\n",
    "\n",
    "[MathWorks, 2020] MathWorks (2020). define-custom-pixel-classification-layer-with-tversky-loss. Available from: https://www.mathworks.com/help/deeplearning/ug/define-custom-pixel-classification-layer-with-tversky-loss.html\n",
    "\n",
    "[MrGiovanni, 2020]  MrGiovanni (2020).  Model Gensis. Available from: https://github.com/MrGiovanni/ModelsGenesis\n",
    "\n",
    "[Salehi et al., 2017] Salehi, S. S. M., Erdogmus, D., and Gholipour, A. (2017). Tversky loss function for image segmentation using 3d fully convolutional deep networks. In International Workshop on Machine Learning in Medical Imaging, pages 379–387. Springer.\n",
    "\n",
    "[Tamilselvan and Murugesan, 2018] Tamilselvan, K. S. and Murugesan, G. (2018). Image segmentation. Medical and Biological Image Analysis.\n",
    "\n",
    "[Wang et al., 2020] Wang, S., Chen, W., Xie, S. M., Azzari, G., and Lobell, D. B. (2020). Weakly supervised deep learning for segmentation of remote sensing imagery. Remote Sensing, 12(2):207.\n",
    "\n",
    "[Wang, 2010] Wang, Y.-H. (2010). Tutorial: image segmentation.\n",
    "\n",
    "\n",
    "\n"
   ]
  }
 ],
 "metadata": {
  "colab": {
   "collapsed_sections": [],
   "name": "CW2.ipynb",
   "provenance": []
  },
  "kernelspec": {
   "display_name": "Python 3",
   "language": "python",
   "name": "python3"
  },
  "language_info": {
   "codemirror_mode": {
    "name": "ipython",
    "version": 3
   },
   "file_extension": ".py",
   "mimetype": "text/x-python",
   "name": "python",
   "nbconvert_exporter": "python",
   "pygments_lexer": "ipython3",
   "version": "3.8.5"
  }
 },
 "nbformat": 4,
 "nbformat_minor": 1
}
